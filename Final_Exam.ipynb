{
  "nbformat": 4,
  "nbformat_minor": 0,
  "metadata": {
    "colab": {
      "name": "Final Exam.ipynb",
      "provenance": [],
      "authorship_tag": "ABX9TyP2b+X8JAb7gORHKOOaPyj0",
      "include_colab_link": true
    },
    "kernelspec": {
      "name": "python3",
      "display_name": "Python 3"
    },
    "language_info": {
      "name": "python"
    }
  },
  "cells": [
    {
      "cell_type": "markdown",
      "metadata": {
        "id": "view-in-github",
        "colab_type": "text"
      },
      "source": [
        "<a href=\"https://colab.research.google.com/github/SupidchayaTangkidwanich/data_viz_2022/blob/main/Final_Exam.ipynb\" target=\"_parent\"><img src=\"https://colab.research.google.com/assets/colab-badge.svg\" alt=\"Open In Colab\"/></a>"
      ]
    },
    {
      "cell_type": "markdown",
      "source": [
        "Final Exam: งานกลุ่ม Final ที่อาจารย์สุ่มให้\n",
        "\n",
        "\n",
        "ให้นักศึกษาสร้าง Dashboard แสดงรายงานเกี่ยวกับข้อมูลการตรวจโรค(ov) จาก ไฟล์ alldb.csv และ hospital_list.xlsx\n",
        "\n",
        "\n",
        "( ดาวน์โหลดจาก https://drive.google.com/drive/folders/1D_Z0fjTki6U6ECbgh2V3wBOSdOXS81YT?fbclid=IwAR3KK7jaRTK1DI3hfBq--qsME4ScgtNdrEbo2yvE2rn08tOTfmXED5kAEB8)\n",
        "\n",
        "\n",
        "โดยข้อมูลหลักจะอยู่ใน ตาราง alldb.csv (ข้อมูลที่สมบูรณ์ที่สามารถนำมาใช้งานได้ต้องมีค่าใน column ต่อไปนี้ดังนี้\n",
        "\n",
        "\n",
        "* user เป็นตัวเลข 5 หลัก (ตัวเลขเท่านั้น)\n",
        "* RowKey เป็น String\n",
        "* date เป็น YYYY-MM-DD\n",
        "* phone เป็น String\n",
        "* site เป็นตัวเลข 5 หลัก (ตัวเลขเท่านั้น)\n",
        "* time เป็น hh-mm-ss\n",
        "* urine มีค่า String\n",
        "* ov เป็นตัวเลข มีค่าตั้งแต่ 0-4 (0 คือไม่พบโรค 1-4 คือพบโรคที่ระดับความรุนแรงต่างๆ)\n",
        "* PartitionKey เป็นตัวเลข 5 หลัก (ตัวเลขเท่านั้น)\n",
        "\n",
        "\n",
        "ไฟล์ alldb.csv และ hospital_list.xlsx สามารถถูกเชื่อมโยงกันโดย site ในไฟล์ alldb.csv คือ hcode ในไฟล์ hospital_list.xlsx\n",
        "\n",
        "\n",
        "โดยข้อมูลสำคัญที่ต้องแสดงคือ\n",
        "\n",
        "\n",
        "* จำนวนการตรวจในแต่ละพื้นที่ (จังหวัด-อำเภอ ในไฟล์ hospital_list.xlsx) เทียบกับ จำนวนที่พบโรค (column ov ในไฟล์ alldb.csv)\n",
        "* ช่วงเวลาที่ตรวจ (date ในไฟล์ alldb.csv)\n",
        "* อื่นๆที่นักศึกษาเห็นว่าเป็นประโยชน์ (phone (ชนิดโทรศัพท์ที่ใช้บันทึก), title (คำนำหน้าชื่อ), age (อายุ))\n",
        "\n",
        "\n",
        "(คิดคะแนนตามกลุ่ม final โดยไฟล์ที่ทุกคนในกลุ่มต้องมีคือไฟล์ data pre-processing และ link ไปที่ Dashboard ที่สร้่างโดยเปิดให้สามารถเข้าไปดูและใช้งานได้)\n",
        "\n",
        "\n",
        "ส่งไม่เกิน 23.59 วันจันทร์ที่ 11 เมษายน 2565"
      ],
      "metadata": {
        "id": "unU0xyqo-hMH"
      }
    },
    {
      "cell_type": "code",
      "execution_count": null,
      "metadata": {
        "id": "gWFfYcDj-c9s"
      },
      "outputs": [],
      "source": [
        ""
      ]
    }
  ]
}