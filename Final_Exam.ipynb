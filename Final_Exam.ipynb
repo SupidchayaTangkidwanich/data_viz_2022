{
  "nbformat": 4,
  "nbformat_minor": 0,
  "metadata": {
    "colab": {
      "name": "Final Exam.ipynb",
      "provenance": [],
      "toc_visible": true,
      "authorship_tag": "ABX9TyONw8/8o08HwnYpeiwPmlcs",
      "include_colab_link": true
    },
    "kernelspec": {
      "name": "python3",
      "display_name": "Python 3"
    },
    "language_info": {
      "name": "python"
    }
  },
  "cells": [
    {
      "cell_type": "markdown",
      "metadata": {
        "id": "view-in-github",
        "colab_type": "text"
      },
      "source": [
        "<a href=\"https://colab.research.google.com/github/SupidchayaTangkidwanich/data_viz_2022/blob/main/Final_Exam.ipynb\" target=\"_parent\"><img src=\"https://colab.research.google.com/assets/colab-badge.svg\" alt=\"Open In Colab\"/></a>"
      ]
    },
    {
      "cell_type": "markdown",
      "source": [
        "# โจทย์"
      ],
      "metadata": {
        "id": "S94vPtSskhgL"
      }
    },
    {
      "cell_type": "markdown",
      "source": [
        "Final Exam: งานกลุ่ม Final ที่อาจารย์สุ่มให้\n",
        "\n",
        "\n",
        "ให้นักศึกษาสร้าง Dashboard แสดงรายงานเกี่ยวกับข้อมูลการตรวจโรค(ov) จาก ไฟล์ alldb.csv และ hospital_list.xlsx\n",
        "\n",
        "\n",
        "( ดาวน์โหลดจาก https://drive.google.com/drive/folders/1D_Z0fjTki6U6ECbgh2V3wBOSdOXS81YT?fbclid=IwAR3KK7jaRTK1DI3hfBq--qsME4ScgtNdrEbo2yvE2rn08tOTfmXED5kAEB8)\n",
        "\n",
        "\n",
        "โดยข้อมูลหลักจะอยู่ใน ตาราง alldb.csv (ข้อมูลที่สมบูรณ์ที่สามารถนำมาใช้งานได้ต้องมีค่าใน column ต่อไปนี้ดังนี้\n",
        "\n",
        "\n",
        "* user เป็นตัวเลข 5 หลัก (ตัวเลขเท่านั้น)\n",
        "* RowKey เป็น String\n",
        "* date เป็น YYYY-MM-DD\n",
        "* phone เป็น String\n",
        "* site เป็นตัวเลข 5 หลัก (ตัวเลขเท่านั้น)\n",
        "* time เป็น hh-mm-ss\n",
        "* urine มีค่า String\n",
        "* ov เป็นตัวเลข มีค่าตั้งแต่ 0-4 (0 คือไม่พบโรค 1-4 คือพบโรคที่ระดับความรุนแรงต่างๆ)\n",
        "* PartitionKey เป็นตัวเลข 5 หลัก (ตัวเลขเท่านั้น))\n",
        "\n",
        "\n",
        "ไฟล์ alldb.csv และ hospital_list.xlsx สามารถถูกเชื่อมโยงกันโดย site ในไฟล์ alldb.csv คือ hcode ในไฟล์ hospital_list.xlsx\n",
        "\n",
        "\n",
        "โดยข้อมูลสำคัญที่ต้องแสดงคือ\n",
        "\n",
        "\n",
        "* จำนวนการตรวจในแต่ละพื้นที่ (จังหวัด-อำเภอ ในไฟล์ hospital_list.xlsx) เทียบกับ จำนวนที่พบโรค (column ov ในไฟล์ alldb.csv)\n",
        "* ช่วงเวลาที่ตรวจ (date ในไฟล์ alldb.csv)\n",
        "* อื่นๆที่นักศึกษาเห็นว่าเป็นประโยชน์ (phone (ชนิดโทรศัพท์ที่ใช้บันทึก), title (คำนำหน้าชื่อ), age (อายุ))\n",
        "\n",
        "\n",
        "(คิดคะแนนตามกลุ่ม final โดยไฟล์ที่ทุกคนในกลุ่มต้องมีคือไฟล์ data pre-processing และ link ไปที่ Dashboard ที่สร้่างโดยเปิดให้สามารถเข้าไปดูและใช้งานได้)\n",
        "\n",
        "\n",
        "ส่งไม่เกิน 23.59 วันจันทร์ที่ 11 เมษายน 2565"
      ],
      "metadata": {
        "id": "unU0xyqo-hMH"
      }
    },
    {
      "cell_type": "markdown",
      "source": [
        "# รายชื่อสมาชิกภายในกลุ่ม triturate"
      ],
      "metadata": {
        "id": "wqTxw7vGkkxD"
      }
    },
    {
      "cell_type": "markdown",
      "source": [
        "1. นางสาววัชราภรณ์ บุญจวง 613020615-8\n",
        "\n",
        "2. นางสาวฐิติชญา ไกรวงค์ 623020520-0\n",
        "\n",
        "3. นางสาวสุพิชญา ตั้งกิจวานิชย์ 623020542-0\n",
        "\n",
        "4. นายดิษพงษ์ นาทองห่อ 623020999-5"
      ],
      "metadata": {
        "id": "-AIwPyq5knE7"
      }
    },
    {
      "cell_type": "markdown",
      "source": [
        "# การเชื่อมไดร์ฟเพื่อดึงข้อมูลจากไดรฟ์"
      ],
      "metadata": {
        "id": "74b1F0nA_S2v"
      }
    },
    {
      "cell_type": "code",
      "execution_count": null,
      "metadata": {
        "id": "gWFfYcDj-c9s"
      },
      "outputs": [],
      "source": [
        "import pandas as pd #เพื่อใช้ทำงานกับข้อมูลที่เป็นรูปแบบตาราง\n",
        "import os           #เพื่อจัดการกับไฟล์ และ ตัว path ที่เราจะนำเข้า"
      ]
    },
    {
      "cell_type": "code",
      "source": [
        "from google.colab import drive#เชื่อมข้อมูล เพราะเราจะทำการนำเข้าข้อมูล โดยให้ดึงมาจาก google drive ของเรา\n",
        "drive.mount('/content/drive')"
      ],
      "metadata": {
        "id": "pRKuap6n_ghO"
      },
      "execution_count": null,
      "outputs": []
    },
    {
      "cell_type": "code",
      "source": [
        "path = '/content/drive/My Drive/ovrdt_data'\n",
        "#โดยเราจะทำการระบุให้ชี้ไปที่ โฟลเดอร์ที่เราเซฟไฟล์ไว้ หรือก็คือ โฟลเดอร์ Project"
      ],
      "metadata": {
        "id": "u5B-AA_N_lIE"
      },
      "execution_count": null,
      "outputs": []
    },
    {
      "cell_type": "markdown",
      "source": [
        "## ข้อมูลหลัก ตาราง alldb.csv"
      ],
      "metadata": {
        "id": "ohUBkV5_AGIR"
      }
    },
    {
      "cell_type": "code",
      "source": [
        "alldb = os.path.join(path,'alldb.csv')\n",
        "alldb = pd.read_csv(alldb)\n",
        "alldb"
      ],
      "metadata": {
        "id": "-OuN1RG__4Ff"
      },
      "execution_count": null,
      "outputs": []
    },
    {
      "cell_type": "markdown",
      "source": [
        "## ข้อมูลรอง ตาราง hospital_list.xlsx"
      ],
      "metadata": {
        "id": "hIWNooylA-OY"
      }
    },
    {
      "cell_type": "code",
      "source": [
        "hospital_list = os.path.join(path,'hospital_list.xlsx')\n",
        "hospital_list = pd.read_excel(hospital_list)\n",
        "hospital_list"
      ],
      "metadata": {
        "id": "ZdeBs6GXA9tA"
      },
      "execution_count": null,
      "outputs": []
    },
    {
      "cell_type": "markdown",
      "source": [
        "# Data Pre-Processing"
      ],
      "metadata": {
        "id": "BJoxc6SgBwrT"
      }
    },
    {
      "cell_type": "markdown",
      "source": [
        "## จัดการข้อมูลหลัก ตาราง alldb.csv"
      ],
      "metadata": {
        "id": "KqGgR5sbB4kw"
      }
    },
    {
      "cell_type": "markdown",
      "source": [
        "### เลือกข้อมูลจากตารางหลัก แค่คอลัมน์ที่ต้องการใช้งาน"
      ],
      "metadata": {
        "id": "pxBp-FtnDSye"
      }
    },
    {
      "cell_type": "code",
      "source": [
        "alldb_new = alldb[['user','RowKey','date','phone','site','time','urine','ov','PartitionKey']] \n",
        "alldb_new "
      ],
      "metadata": {
        "id": "4wgmefOVDRsH"
      },
      "execution_count": null,
      "outputs": []
    },
    {
      "cell_type": "markdown",
      "source": [
        "### ตรวจสอบค่า Missing"
      ],
      "metadata": {
        "id": "EbDqzPQqFJgm"
      }
    },
    {
      "cell_type": "code",
      "source": [
        "alldb_new.isnull().any() \n",
        "#.isnull() เพื่อระบุว่านิพจน์มีค่า Null หรือไม่\n",
        "#.any() เพื่อดูรายละเอียดการเปรียบเทียบข้อมูลให้ออกมาในรูป true false"
      ],
      "metadata": {
        "id": "qDpFMFtKFMe9"
      },
      "execution_count": null,
      "outputs": []
    },
    {
      "cell_type": "markdown",
      "source": [
        "### ใช้ .dropna ซึ่งจะใช้ตัดแถวข้อมูลที่มีค่า missing"
      ],
      "metadata": {
        "id": "KThCgB5dFX2v"
      }
    },
    {
      "cell_type": "code",
      "source": [
        "alldb_drop = alldb_new.dropna() #ใช้ dropna เพื่อต้องการลบข้อมูลทั้งแถวออกเมื่อมีคอลัมน์ใดคอลัมน์หนึ่งเป็น NaN\n",
        "alldb_drop"
      ],
      "metadata": {
        "id": "3KI7SW4UFU6m"
      },
      "execution_count": null,
      "outputs": []
    },
    {
      "cell_type": "code",
      "source": [
        "alldb_drop.shape #ตรวจสอบขนาดของตารางใหม่"
      ],
      "metadata": {
        "id": "cpUHd-FIFkNl"
      },
      "execution_count": null,
      "outputs": []
    },
    {
      "cell_type": "code",
      "source": [
        "removes = alldb_new.shape[0] - alldb_drop.shape[0]\n",
        "print(f'size before drop = {alldb_new.shape[0]}')\n",
        "print(f'size after drop = {alldb_drop.shape[0]}')\n",
        "print(f'% from drop = {(removes/alldb_new.shape[0])*100}')\n",
        " # จากการคำนวณพบว่ามีข้อมูลที่หายไปเพียงแค่ 3% ดังนั้น จึงสามารถใช้การ .dropna() ได ้ "
      ],
      "metadata": {
        "id": "5WMAE07GFoV-"
      },
      "execution_count": null,
      "outputs": []
    },
    {
      "cell_type": "code",
      "source": [
        "alldb_drop.isnull().any() \n",
        "#.isnull() เพื่อระบุว่านิพจน์มีค่า Null หรือไม่\n",
        "#.any() เพื่อดูรายละเอียดการเปรียบเทียบข้อมูลให้ออกมาในรูป true false"
      ],
      "metadata": {
        "id": "ft_GO4z1GR-3"
      },
      "execution_count": null,
      "outputs": []
    },
    {
      "cell_type": "markdown",
      "source": [
        "### ทำการเปลี่ยน type ของข้อมูลให้เป็น type ที่ถูกต้อง"
      ],
      "metadata": {
        "id": "8l6_jCmfEsBW"
      }
    },
    {
      "cell_type": "code",
      "source": [
        "alldb_drop.dtypes # เช็คว่าข้อมูลมี่ความตรงกับที่ต้องการหรือไม่"
      ],
      "metadata": {
        "id": "d-OdRPedAcV1"
      },
      "execution_count": null,
      "outputs": []
    },
    {
      "cell_type": "markdown",
      "source": [
        "พบว่ามีข้อมูลที่ไม่ตรงกับสิ่งที่ต้องการ\n",
        "\n",
        " * user ปัจจุบันยังเป็นข้อมูล type string ควรเปลี่ยนเป็น int\n",
        " * site ปัจจุบันยังเป็นข้อมูล type string ควรเปลี่ยนเป็น int\n",
        " * ov ปัจจุบันยังเป็นข้อมูล type string ควรเปลี่ยนเป็น int\n",
        " * PartitionKey ปัจจุบันยังเป็นข้อมูล type string ควรเปลี่ยนเป็น int\n"
      ],
      "metadata": {
        "id": "k9TnMSTPCdJ4"
      }
    },
    {
      "cell_type": "markdown",
      "source": [
        "#### คอลัมน์ user"
      ],
      "metadata": {
        "id": "25VWWdzaE6V2"
      }
    },
    {
      "cell_type": "code",
      "source": [
        "set(alldb_drop['user']) # เพื่อดูข้อมูลทั้งหมดใน column user"
      ],
      "metadata": {
        "id": "mk6aefpmMqMJ"
      },
      "execution_count": null,
      "outputs": []
    },
    {
      "cell_type": "markdown",
      "source": [
        "เเก้ไขให้มีข้อมูลที่ถูกต้อง\n",
        "\n",
        "โดยกำหนดให้ข้อมูลที่ไม่ใช่เลข 5 หลัก เท่ากับ ข้อมูลว่าง"
      ],
      "metadata": {
        "id": "3pXy6dSLPB-h"
      }
    },
    {
      "cell_type": "code",
      "source": [
        "alldb_drop['user'].replace({'3450101325119':None,\n",
        "'34501009308':None,\n",
        "'71378\\n71378':'71378',\n",
        "'yyy':None,\n",
        "'7197':None,\n",
        "'rrr':None,\n",
        "'745-61':'74561',\n",
        "'uuu':None,\n",
        "'3450100810285':None,\n",
        "'jjj':None,\n",
        "'11111111':None,\n",
        "'3450100805222':None,\n",
        "'zzz':None,\n",
        "'3450101556129':None,\n",
        "'3450101325593':None,\n",
        "'4':None,\n",
        "'6724100235':None,\n",
        "'17536\\n\\n17536':'17536',\n",
        "'3450101229373':None,\n",
        "'Testtohn':None,\n",
        "'  noknoi2601@gmail.com\\n':None,\n",
        "'3451100324624':None,\n",
        "'40591\\n40591\\n':'40591',\n",
        "'6724-':None,\n",
        "'test':None,\n",
        "'3450101536268':None,\n",
        "'3450100543961':None,\n",
        "'ppp':None,\n",
        "'xxx':None,\n",
        "'3451100451758':None,\n",
        "'hhh':None,\n",
        "'ttohn':None,\n",
        "'fff':None,\n",
        "'ggg':None,\n",
        "'ccc':None,\n",
        "'5600190011969':None,\n",
        "'testtohn':None,\n",
        "'3451400598487':None,\n",
        "'3':None,\n",
        "'3400900747146':None,\n",
        "'5450100026807':None,\n",
        "'iii':None,\n",
        "'5799':None,\n",
        "'aaa':None,\n",
        "'3451100141252':None,\n",
        "'t006':None,\n",
        "'5450500072920':None,\n",
        "'bbb':None,\n",
        "'hu':None,\n",
        "'3450101323370':None,\n",
        "'ttest':None,\n",
        "'test1':None,\n",
        "'tttt':None,\n",
        "'eee':None,\n",
        "'qqq':None,\n",
        "'ttt':None,\n",
        "'45-161':None,\n",
        "'sss':None,\n",
        "'tt':None,\n",
        "'u789':None,\n",
        "'3451100241281':None,\n",
        "'3451100324713':None,\n",
        "'3450101514299':None,\n",
        "'3451100451251':None,\n",
        "'1450700099250':None,\n",
        "'3450100836420':None,\n",
        "'3450500541443':None,\n",
        "'www':None,\n",
        "'5451100055352':None,\n",
        "'3451100146637':None,\n",
        "'3450100940367':None,\n",
        "'mmm':None,\n",
        "'3460500500020':None,\n",
        "'vvv':None,\n",
        "'lll':None,\n",
        "'3450101325097':None,\n",
        "'aiov0001':None,\n",
        "'kkk':None,\n",
        "'mks':None,\n",
        "'aiov0002':None,\n",
        "'3459900286317':None,\n",
        "'3451100150251':None,\n",
        "'3450101576642':None,\n",
        "'  67241\\n':'67241'\n",
        "},inplace=True)"
      ],
      "metadata": {
        "id": "SWUBY9oNO0eB"
      },
      "execution_count": null,
      "outputs": []
    },
    {
      "cell_type": "code",
      "source": [
        "set(alldb_drop['user']) # เพื่อดูข้อมูลทั้งหมดใน column user"
      ],
      "metadata": {
        "id": "xoP7AunQUish"
      },
      "execution_count": null,
      "outputs": []
    },
    {
      "cell_type": "code",
      "source": [
        "alldb_drop2 = alldb_drop.dropna() # ทำการ drop ค่าว่างออก \n",
        "alldb_drop2 # แสดงผลลัพธ์"
      ],
      "metadata": {
        "id": "YPTjnGpWYRo3"
      },
      "execution_count": null,
      "outputs": []
    },
    {
      "cell_type": "code",
      "source": [
        "alldb_drop2 = alldb_drop2[(alldb_drop2['user'].astype(str).str.isdigit()) & (alldb_drop2['user'].str.len() == 5 )] # เลือกข้อมูลที่เป็น 5 หลัก"
      ],
      "metadata": {
        "id": "GT0QO0yLgUSz"
      },
      "execution_count": null,
      "outputs": []
    },
    {
      "cell_type": "code",
      "source": [
        "alldb_drop2"
      ],
      "metadata": {
        "id": "-jIzO6wdhB5Q"
      },
      "execution_count": null,
      "outputs": []
    },
    {
      "cell_type": "markdown",
      "source": [
        "#### คอลัมน์ site"
      ],
      "metadata": {
        "id": "TZkk4tsRdnyG"
      }
    },
    {
      "cell_type": "code",
      "source": [
        "set(alldb_drop2['site']) # เพื่อดูข้อมูลทั้งหมดใน column site"
      ],
      "metadata": {
        "id": "MeZ28v7VdRad"
      },
      "execution_count": null,
      "outputs": []
    },
    {
      "cell_type": "markdown",
      "source": [
        "เเก้ไขให้มีข้อมูลที่ถูกต้อง\n",
        "\n",
        "โดยกำหนดให้ข้อมูลที่ไม่ใช่เลข 5 หลัก เท่ากับ ข้อมูลว่าง"
      ],
      "metadata": {
        "id": "kzzluF2leI6-"
      }
    },
    {
      "cell_type": "code",
      "source": [
        "alldb_drop2['site'].replace({' 0502':None,\n",
        "'05250\\n':'05250',\n",
        "'05350ยอ':'05350',\n",
        "'13943\\n\\n':'13943',\n",
        "'043.1':None\n",
        "},inplace=True)"
      ],
      "metadata": {
        "id": "7_EnUq3Pdx2X"
      },
      "execution_count": null,
      "outputs": []
    },
    {
      "cell_type": "code",
      "source": [
        "alldb_drop3 = alldb_drop2.dropna() # ทำการ drop ค่าว่างออก \n",
        "alldb_drop3 # แสดงผลลัพธ์"
      ],
      "metadata": {
        "id": "CGOhPh2kfuu3"
      },
      "execution_count": null,
      "outputs": []
    },
    {
      "cell_type": "code",
      "source": [
        "set(alldb_drop3['site']) # เพื่อดูข้อมูลทั้งหมดใน column site"
      ],
      "metadata": {
        "id": "B6fwj6oqfadZ"
      },
      "execution_count": null,
      "outputs": []
    },
    {
      "cell_type": "code",
      "source": [
        "alldb_drop3 = alldb_drop3[(alldb_drop3['site'].astype(str).str.isdigit()) & (alldb_drop3['site'].str.len() == 5 )] # เลือกข้อมูลที่เป็น 5 หลัก"
      ],
      "metadata": {
        "id": "eQqPVlvHhYcJ"
      },
      "execution_count": null,
      "outputs": []
    },
    {
      "cell_type": "code",
      "source": [
        "alldb_drop3"
      ],
      "metadata": {
        "id": "L6_WcWzTheow"
      },
      "execution_count": null,
      "outputs": []
    },
    {
      "cell_type": "markdown",
      "source": [
        "#### คอลัมน์ ov"
      ],
      "metadata": {
        "id": "rVSIGBkpgcAN"
      }
    },
    {
      "cell_type": "code",
      "source": [
        "set(alldb_drop3['ov']) # เพื่อดูข้อมูลทั้งหมดใน column ov"
      ],
      "metadata": {
        "id": "hAbBmkMQgBCJ"
      },
      "execution_count": null,
      "outputs": []
    },
    {
      "cell_type": "markdown",
      "source": [
        "เเก้ไขให้มีข้อมูลที่ถูกต้อง\n",
        "\n",
        "โดยกำหนดให้ข้อมูลที่ไม่ใช่เลข  เท่ากับ ข้อมูลว่าง"
      ],
      "metadata": {
        "id": "SCwdTDWcgm30"
      }
    },
    {
      "cell_type": "code",
      "source": [
        "alldb_drop3['ov'].replace({'ติดเชื้อ +2 ':None},inplace=True)"
      ],
      "metadata": {
        "id": "9QN11lZngjYH"
      },
      "execution_count": null,
      "outputs": []
    },
    {
      "cell_type": "code",
      "source": [
        "alldb_drop4 = alldb_drop3.dropna() # ทำการ drop ค่าว่างออก \n",
        "alldb_drop4 # แสดงผลลัพธ์"
      ],
      "metadata": {
        "id": "7W2T-pVKg5eu"
      },
      "execution_count": null,
      "outputs": []
    },
    {
      "cell_type": "code",
      "source": [
        "set(alldb_drop4['ov']) # เพื่อดูข้อมูลทั้งหมดใน column ov"
      ],
      "metadata": {
        "id": "TGzdpQ8qg0u5"
      },
      "execution_count": null,
      "outputs": []
    },
    {
      "cell_type": "code",
      "source": [
        "alldb_drop4['ov'] = alldb_drop4['ov'].astype(int) # เปลี่ยนข้อมูลจาก string เป็น int ในคอลัมน์ ov"
      ],
      "metadata": {
        "id": "wTZhcLdjg3ud"
      },
      "execution_count": null,
      "outputs": []
    },
    {
      "cell_type": "code",
      "source": [
        "alldb_drop4.dtypes # เช็คว่า ov ทั้งหมดเป็น int หรือไม่"
      ],
      "metadata": {
        "id": "YoS7uQibhh7X"
      },
      "execution_count": null,
      "outputs": []
    },
    {
      "cell_type": "markdown",
      "source": [
        "#### คอลัมน์ PartitionKey"
      ],
      "metadata": {
        "id": "R5ceRlKBhnB1"
      }
    },
    {
      "cell_type": "code",
      "source": [
        "set(alldb_drop4['PartitionKey']) # เพื่อดูข้อมูลทั้งหมดใน column PartitionKey"
      ],
      "metadata": {
        "id": "Z89FfSdEhlkZ"
      },
      "execution_count": null,
      "outputs": []
    },
    {
      "cell_type": "markdown",
      "source": [
        "เเก้ไขให้มีข้อมูลที่ถูกต้อง\n",
        "\n",
        "โดยกำหนดให้ข้อมูลที่ไม่ใช่เลข 5 หลัก เท่ากับ ข้อมูลว่าง"
      ],
      "metadata": {
        "id": "6V2kcrBUiB_0"
      }
    },
    {
      "cell_type": "code",
      "source": [
        "alldb_drop4['PartitionKey'].replace({\n",
        "'61':None,\n",
        "'29':None,\n",
        "'52':None,\n",
        "'0083':None,\n",
        "'000152':None,\n",
        "'0034':None,\n",
        "'23':None,\n",
        "'219':None,\n",
        "'185':None,\n",
        "'00\\u200b175':None,\n",
        "'89':None,\n",
        "'150':None,\n",
        "'196':None,\n",
        "'193':None,\n",
        "'125':None,\n",
        "'1881':None,\n",
        "'32':None,\n",
        "'124':None,\n",
        "'112':None,\n",
        "'00083\\u200b':None,\n",
        "'002.5':None                         \n",
        "},inplace=True)"
      ],
      "metadata": {
        "id": "u4Ot9sL2hyai"
      },
      "execution_count": null,
      "outputs": []
    },
    {
      "cell_type": "code",
      "source": [
        "alldb_drop5 = alldb_drop4.dropna() # ทำการ drop ค่าว่างออก \n",
        "alldb_drop5 # แสดงผลลัพธ์"
      ],
      "metadata": {
        "id": "tuGScRIyjUpl"
      },
      "execution_count": null,
      "outputs": []
    },
    {
      "cell_type": "code",
      "source": [
        "set(alldb_drop5['PartitionKey']) # เพื่อดูข้อมูลทั้งหมดใน column PartitionKey"
      ],
      "metadata": {
        "id": "v8Yq98irjSOc"
      },
      "execution_count": null,
      "outputs": []
    },
    {
      "cell_type": "code",
      "source": [
        "alldb_drop5 = alldb_drop5[(alldb_drop5['PartitionKey'].astype(str).str.isdigit()) & (alldb_drop5['PartitionKey'].str.len() == 5 )] # เลือกข้อมูลที่เป็น 5 หลัก"
      ],
      "metadata": {
        "id": "dM_V1PnejEVg"
      },
      "execution_count": null,
      "outputs": []
    },
    {
      "cell_type": "code",
      "source": [
        "alldb_drop5"
      ],
      "metadata": {
        "id": "tF5uQkIQjRoK"
      },
      "execution_count": null,
      "outputs": []
    },
    {
      "cell_type": "markdown",
      "source": [
        "### ทำการเเก้ไขข้อมูลให้ถูกต้อง ในรูปแบบที่กำหนด"
      ],
      "metadata": {
        "id": "biLLNc7zHZr8"
      }
    },
    {
      "cell_type": "markdown",
      "source": [
        "#### คอลัมน์ time"
      ],
      "metadata": {
        "id": "gmCeI0pqHWA9"
      }
    },
    {
      "cell_type": "code",
      "source": [
        "alldb_drop5['time'] = alldb_drop5['time'].replace(':','-', regex=True)"
      ],
      "metadata": {
        "id": "9QyKEytIHlnu"
      },
      "execution_count": null,
      "outputs": []
    },
    {
      "cell_type": "markdown",
      "source": [
        "## ตาราง alldb.csv หลังจัดการข้อมูลแล้ว"
      ],
      "metadata": {
        "id": "7gr9qItgqtjl"
      }
    },
    {
      "cell_type": "code",
      "source": [
        "alldb_drop5 # ดูตาราง alldb.csv หลังจัดการข้อมูลแล้ว"
      ],
      "metadata": {
        "id": "2Do0f938o1zE"
      },
      "execution_count": null,
      "outputs": []
    },
    {
      "cell_type": "markdown",
      "source": [
        "## จัดการข้อมูลหลัก ตาราง hospital_list.xlsx"
      ],
      "metadata": {
        "id": "ug6uJKohlb1v"
      }
    },
    {
      "cell_type": "code",
      "source": [
        "hospital_list # แสดงข้อมูลตาราง hospital_list.xlsx"
      ],
      "metadata": {
        "id": "6dWSOMpgmToE"
      },
      "execution_count": null,
      "outputs": []
    },
    {
      "cell_type": "markdown",
      "source": [
        "### ตรวจสอบค่า Missing"
      ],
      "metadata": {
        "id": "xvkI8LrWlhqr"
      }
    },
    {
      "cell_type": "code",
      "source": [
        "hospital_list.isnull().any() \n",
        "#.isnull() เพื่อระบุว่านิพจน์มีค่า Null หรือไม่\n",
        "#.any() เพื่อดูรายละเอียดการเปรียบเทียบข้อมูลให้ออกมาในรูป true false"
      ],
      "metadata": {
        "id": "KoAFXrI0lew0"
      },
      "execution_count": null,
      "outputs": []
    },
    {
      "cell_type": "markdown",
      "source": [
        "### ใช้ .dropna ซึ่งจะใช้ตัดแถวข้อมูลที่มีค่า missing"
      ],
      "metadata": {
        "id": "7cZh2QK_lqGk"
      }
    },
    {
      "cell_type": "code",
      "source": [
        "h_drop = hospital_list.dropna() #ใช้ dropna เพื่อต้องการลบข้อมูลทั้งแถวออกเมื่อมีคอลัมน์ใดคอลัมน์หนึ่งเป็น NaN\n",
        "h_drop"
      ],
      "metadata": {
        "id": "GjtF38NXlsoT"
      },
      "execution_count": null,
      "outputs": []
    },
    {
      "cell_type": "code",
      "source": [
        "h_drop.shape #ตรวจสอบขนาดของตารางใหม่"
      ],
      "metadata": {
        "id": "oO01jGTql1Ub"
      },
      "execution_count": null,
      "outputs": []
    },
    {
      "cell_type": "code",
      "source": [
        "removes = hospital_list.shape[0] - h_drop.shape[0]\n",
        "print(f'size before drop = {hospital_list.shape[0]}')\n",
        "print(f'size after drop = {h_drop.shape[0]}')\n",
        "print(f'% from drop = {(removes/hospital_list.shape[0])*100}')\n",
        " # จากการคำนวณพบว่ามีข้อมูลที่หายไปถึง 31% ดังนั้น จึงไม่สามารถใช้การ .dropna() ได ้ "
      ],
      "metadata": {
        "id": "L2wVwJvZlyxr"
      },
      "execution_count": null,
      "outputs": []
    },
    {
      "cell_type": "code",
      "source": [
        "hospital_list[['name']] = hospital_list[['name']].fillna('ไม่ระบุ') \n",
        "#แทนค่า Missing ด้วยคำว่า ไม่ระบุ"
      ],
      "metadata": {
        "id": "kV892XiXmsBm"
      },
      "execution_count": null,
      "outputs": []
    },
    {
      "cell_type": "code",
      "source": [
        "hospital_list[['zone_name']] = hospital_list[['zone_name']].fillna('ไม่ระบุ') \n",
        "#แทนค่า Missing ด้วยคำว่า ไม่ระบุ"
      ],
      "metadata": {
        "id": "2rTbXRZIm5sy"
      },
      "execution_count": null,
      "outputs": []
    },
    {
      "cell_type": "code",
      "source": [
        "p = hospital_list[['provincecode']].mean() #กำหนดให้ provincecode เป็นค่าเฉลี่ยของ provincecode\n",
        "hospital_list[['provincecode']] = hospital_list[['provincecode']].fillna(p) #แทนค่าเฉลี่ยลงในข้อมูลที่ว่าง หรือเป็นค่า missing"
      ],
      "metadata": {
        "id": "fZZoF_sTlbTs"
      },
      "execution_count": null,
      "outputs": []
    },
    {
      "cell_type": "code",
      "source": [
        "a = hospital_list[['amphurcode']].mean() #กำหนดให้ amphurcode เป็นค่าเฉลี่ยของ amphurcode\n",
        "hospital_list[['amphurcode']] = hospital_list[['amphurcode']].fillna(a) #แทนค่าเฉลี่ยลงในข้อมูลที่ว่าง หรือเป็นค่า missing"
      ],
      "metadata": {
        "id": "I0KasI3OntNM"
      },
      "execution_count": null,
      "outputs": []
    },
    {
      "cell_type": "code",
      "source": [
        "hospital_list[['amphur']] = hospital_list[['amphur']].fillna('ไม่ระบุ') \n",
        "#แทนค่า Missing ด้วยคำว่า ไม่ระบุ"
      ],
      "metadata": {
        "id": "qtjoTw15nDOk"
      },
      "execution_count": null,
      "outputs": []
    },
    {
      "cell_type": "code",
      "source": [
        "t = hospital_list[['tamboncode']].mean() #กำหนดให้ tamboncode เป็นค่าเฉลี่ยของ tamboncode\n",
        "hospital_list[['tamboncode']] = hospital_list[['tamboncode']].fillna(t) #แทนค่าเฉลี่ยลงในข้อมูลที่ว่าง หรือเป็นค่า missing"
      ],
      "metadata": {
        "id": "1gbO2v7MoEXX"
      },
      "execution_count": null,
      "outputs": []
    },
    {
      "cell_type": "code",
      "source": [
        "hospital_list[['tambon']] = hospital_list[['tambon']].fillna('ไม่ระบุ') \n",
        "#แทนค่า Missing ด้วยคำว่า ไม่ระบุ"
      ],
      "metadata": {
        "id": "yrFKYVnCoPNl"
      },
      "execution_count": null,
      "outputs": []
    },
    {
      "cell_type": "code",
      "source": [
        "c = hospital_list[['code4']].mean() #กำหนดให้ code4 เป็นค่าเฉลี่ยของ code4\n",
        "hospital_list[['code4']] = hospital_list[['code4']].fillna(c) #แทนค่าเฉลี่ยลงในข้อมูลที่ว่าง หรือเป็นค่า missing"
      ],
      "metadata": {
        "id": "N84CGBMMoXYr"
      },
      "execution_count": null,
      "outputs": []
    },
    {
      "cell_type": "code",
      "source": [
        "hospital_list[['name5']] = hospital_list[['name5']].fillna('ไม่ระบุ') \n",
        "#แทนค่า Missing ด้วยคำว่า ไม่ระบุ"
      ],
      "metadata": {
        "id": "2aTnYpjFprgH"
      },
      "execution_count": null,
      "outputs": []
    },
    {
      "cell_type": "code",
      "source": [
        "c2 = hospital_list[['code9']].mean() #กำหนดให้ code9 เป็นค่าเฉลี่ยของ code9\n",
        "hospital_list[['code9']] = hospital_list[['code9']].fillna(c2) #แทนค่าเฉลี่ยลงในข้อมูลที่ว่าง หรือเป็นค่า missing"
      ],
      "metadata": {
        "id": "BCs9Sr6wpzm1"
      },
      "execution_count": null,
      "outputs": []
    },
    {
      "cell_type": "code",
      "source": [
        "hospital_list[['name10']] = hospital_list[['name10']].fillna('ไม่ระบุ') \n",
        "#แทนค่า Missing ด้วยคำว่า ไม่ระบุ"
      ],
      "metadata": {
        "id": "sJwWh7Y-p7mk"
      },
      "execution_count": null,
      "outputs": []
    },
    {
      "cell_type": "code",
      "source": [
        "hospital_list[['short_thai']] = hospital_list[['short_thai']].fillna('ไม่ระบุ') \n",
        "#แทนค่า Missing ด้วยคำว่า ไม่ระบุ"
      ],
      "metadata": {
        "id": "RUH4wuY9qFwM"
      },
      "execution_count": null,
      "outputs": []
    },
    {
      "cell_type": "code",
      "source": [
        "hospital_list[['short_english']] = hospital_list[['short_english']].fillna('ไม่ระบุ') \n",
        "#แทนค่า Missing ด้วยคำว่า ไม่ระบุ"
      ],
      "metadata": {
        "id": "XVP5OfBoqGpK"
      },
      "execution_count": null,
      "outputs": []
    },
    {
      "cell_type": "code",
      "source": [
        "hospital_list.isnull().any() \n",
        "#.isnull() เพื่อระบุว่านิพจน์มีค่า Null หรือไม่\n",
        "#.any() เพื่อดูรายละเอียดการเปรียบเทียบข้อมูลให้ออกมาในรูป true false"
      ],
      "metadata": {
        "id": "igDxMra5qZGd"
      },
      "execution_count": null,
      "outputs": []
    },
    {
      "cell_type": "markdown",
      "source": [
        "### ทำการเปลี่ยน type ของข้อมูลให้เป็น type ที่ถูกต้อง"
      ],
      "metadata": {
        "id": "YlPCFpYKr14z"
      }
    },
    {
      "cell_type": "code",
      "source": [
        "hospital_list.dtypes # เช็คว่าข้อมูลมี่ความตรงกับที่ต้องการหรือไม่ ## ต้องการให้ hcode เป็น int"
      ],
      "metadata": {
        "id": "DgHoWlyPreK9"
      },
      "execution_count": null,
      "outputs": []
    },
    {
      "cell_type": "code",
      "source": [
        "set(hospital_list['hcode']) # เพื่อดูข้อมูลทั้งหมดใน column hcode"
      ],
      "metadata": {
        "id": "iZnhHdH2r_Yd"
      },
      "execution_count": null,
      "outputs": []
    },
    {
      "cell_type": "markdown",
      "source": [
        "เเก้ไขให้มีข้อมูลที่ถูกต้อง\n",
        "\n",
        "โดยกำหนดให้ข้อมูลที่ไม่ใช่เลข 5 หลัก เท่ากับ ข้อมูลว่าง"
      ],
      "metadata": {
        "id": "wwGVGG8OsTAb"
      }
    },
    {
      "cell_type": "code",
      "source": [
        "hospital_list['hcode'].replace({'2475x':None,'2560x':None},inplace=True)"
      ],
      "metadata": {
        "id": "Et3dKNoWsTw2"
      },
      "execution_count": null,
      "outputs": []
    },
    {
      "cell_type": "code",
      "source": [
        "hospital_list_drop = hospital_list.dropna() # ทำการ drop ค่าว่างออก \n",
        "hospital_list_drop # แสดงผลลัพธ์"
      ],
      "metadata": {
        "id": "NF4EvmmMsq6d"
      },
      "execution_count": null,
      "outputs": []
    },
    {
      "cell_type": "code",
      "source": [
        "hospital_list_drop = hospital_list_drop[(hospital_list_drop['hcode'].astype(str).str.isdigit()) & (hospital_list_drop['hcode'].str.len() == 5 )] # เลือกข้อมูลที่เป็น 5 หลัก"
      ],
      "metadata": {
        "id": "mxemHJbikalc"
      },
      "execution_count": null,
      "outputs": []
    },
    {
      "cell_type": "code",
      "source": [
        "hospital_list_drop"
      ],
      "metadata": {
        "id": "zVIrOtxklDIw"
      },
      "execution_count": null,
      "outputs": []
    },
    {
      "cell_type": "markdown",
      "source": [
        "## ตาราง hospital_list.xlsx หลังจัดการข้อมูลแล้ว"
      ],
      "metadata": {
        "id": "UvXRlqgpq3xW"
      }
    },
    {
      "cell_type": "code",
      "source": [
        "hospital_list_drop # ดูตาราง hospital_list.xlsx หลังจัดการข้อมูลแล้ว"
      ],
      "metadata": {
        "id": "0Qv3uhAyq9dk"
      },
      "execution_count": null,
      "outputs": []
    },
    {
      "cell_type": "markdown",
      "source": [
        "# รวมข้อมูลทั้งสองตารางเข้าด้วยกัน\n",
        "\n",
        "ไฟล์ alldb.csv และ hospital_list.xlsx สามารถถูกเชื่อมโยงกันโดย site ในไฟล์ alldb.csv คือ hcode ในไฟล์ hospital_list.xlsx"
      ],
      "metadata": {
        "id": "FZPqAWiWlHmE"
      }
    },
    {
      "cell_type": "code",
      "source": [
        "merged = alldb_drop5.merge(hospital_list_drop,how='left',left_on='site',right_on='hcode') \n",
        "merged"
      ],
      "metadata": {
        "id": "TmbQWsrsj9BB"
      },
      "execution_count": null,
      "outputs": []
    },
    {
      "cell_type": "markdown",
      "source": [
        "## ตรวจสอบค่า Missing"
      ],
      "metadata": {
        "id": "QMzsVQsgta-j"
      }
    },
    {
      "cell_type": "code",
      "source": [
        "merged.isnull().any() \n",
        "#.isnull() เพื่อระบุว่านิพจน์มีค่า Null หรือไม่\n",
        "#.any() เพื่อดูรายละเอียดการเปรียบเทียบข้อมูลให้ออกมาในรูป true false"
      ],
      "metadata": {
        "id": "OVEvA5vftfiy"
      },
      "execution_count": null,
      "outputs": []
    },
    {
      "cell_type": "markdown",
      "source": [
        "## ใช้ .dropna ซึ่งจะใช้ตัดแถวข้อมูลที่มีค่า missing"
      ],
      "metadata": {
        "id": "MacVmO_OtIUD"
      }
    },
    {
      "cell_type": "code",
      "source": [
        "merged_drop = merged.dropna() #ใช้ dropna เพื่อต้องการลบข้อมูลทั้งแถวออกเมื่อมีคอลัมน์ใดคอลัมน์หนึ่งเป็น NaN\n",
        "merged_drop"
      ],
      "metadata": {
        "id": "9XOqOCVOtH47"
      },
      "execution_count": null,
      "outputs": []
    },
    {
      "cell_type": "code",
      "source": [
        "merged_drop.shape #ตรวจสอบขนาดของตารางใหม่"
      ],
      "metadata": {
        "id": "hHBkPVUdrZ6j"
      },
      "execution_count": null,
      "outputs": []
    },
    {
      "cell_type": "code",
      "source": [
        "removes = merged.shape[0] - merged_drop.shape[0]\n",
        "print(f'size before drop = {merged.shape[0]}')\n",
        "print(f'size after drop = {merged_drop.shape[0]}')\n",
        "print(f'% from drop = {(removes/merged.shape[0])*100}')\n",
        " # จากการคำนวณพบว่ามีข้อมูลที่หายไปเพียงแค่ 0.195% ดังนั้น จึงสามารถใช้การ .dropna() ได ้ "
      ],
      "metadata": {
        "id": "4udvyUuxtxt8"
      },
      "execution_count": null,
      "outputs": []
    },
    {
      "cell_type": "markdown",
      "source": [
        "# ตารางข้อมูลที่จะนำมาใช้"
      ],
      "metadata": {
        "id": "bma9R1_IuWED"
      }
    },
    {
      "cell_type": "code",
      "source": [
        "merged_drop # แสดงผลลัพธ์"
      ],
      "metadata": {
        "id": "BAiFbL0jt-Vf"
      },
      "execution_count": null,
      "outputs": []
    },
    {
      "cell_type": "code",
      "source": [
        "merged_drop.isnull().any()"
      ],
      "metadata": {
        "id": "mVHhFDLOwGYn"
      },
      "execution_count": null,
      "outputs": []
    },
    {
      "cell_type": "markdown",
      "source": [
        "## จำนวนการตรวจในแต่ละพื้นที่"
      ],
      "metadata": {
        "id": "sFlWZEs2vBzm"
      }
    },
    {
      "cell_type": "code",
      "source": [
        "Province = merged_drop.groupby('province').count()\n",
        "Province"
      ],
      "metadata": {
        "id": "-oLJi-NBut4C"
      },
      "execution_count": null,
      "outputs": []
    },
    {
      "cell_type": "code",
      "source": [
        "Province_new = Province.iloc[:,:1]\n",
        "Province_new "
      ],
      "metadata": {
        "id": "RZ2Mq754xYIt"
      },
      "execution_count": null,
      "outputs": []
    },
    {
      "cell_type": "code",
      "source": [
        "P_noindex = Province_new.reset_index()\n",
        "P_noindex"
      ],
      "metadata": {
        "id": "kvb4smKOw5Uc"
      },
      "execution_count": null,
      "outputs": []
    },
    {
      "cell_type": "code",
      "source": [
        "pv = {'user':'จำนวนการตรวจในแต่ละพื้นที่'}\n",
        "# call rename () method\n",
        "P_noindex.rename(columns=pv,\n",
        "          inplace=True)\n",
        "P_noindex"
      ],
      "metadata": {
        "id": "STMMUUoQxwn5"
      },
      "execution_count": null,
      "outputs": []
    },
    {
      "cell_type": "markdown",
      "source": [
        "## จำนวนที่พบโรค"
      ],
      "metadata": {
        "id": "7ZXDyRQsyvqF"
      }
    },
    {
      "cell_type": "markdown",
      "source": [
        "### ระดับ 0"
      ],
      "metadata": {
        "id": "3EoLyLSX0YNz"
      }
    },
    {
      "cell_type": "code",
      "source": [
        "ov_0 = merged_drop[merged_drop['ov']== 0]\n",
        "ov_0"
      ],
      "metadata": {
        "id": "ACzMqy_t07aJ"
      },
      "execution_count": null,
      "outputs": []
    },
    {
      "cell_type": "code",
      "source": [
        "ov_0 = ov_0.groupby('province').count()\n",
        "ov_0"
      ],
      "metadata": {
        "id": "fTBSlKlSyH_E"
      },
      "execution_count": null,
      "outputs": []
    },
    {
      "cell_type": "code",
      "source": [
        "ov_0_new = ov_0.iloc[:,:1]\n",
        "ov_0_new "
      ],
      "metadata": {
        "id": "lW2ALa7i1XW8"
      },
      "execution_count": null,
      "outputs": []
    },
    {
      "cell_type": "code",
      "source": [
        "ov_0_noindex = ov_0_new.reset_index()\n",
        "ov_0_noindex"
      ],
      "metadata": {
        "id": "JjM7TsRWy3he"
      },
      "execution_count": null,
      "outputs": []
    },
    {
      "cell_type": "code",
      "source": [
        "o0 = {'user':'จำนวนที่พบโรค ระดับ 0'}\n",
        "# call rename () method\n",
        "ov_0_noindex.rename(columns=o0,\n",
        "          inplace=True)\n",
        "ov_0_noindex"
      ],
      "metadata": {
        "id": "sWqMZcl11r2q"
      },
      "execution_count": null,
      "outputs": []
    },
    {
      "cell_type": "markdown",
      "source": [
        "### ระดับ 1"
      ],
      "metadata": {
        "id": "xpmWaMVe2d_7"
      }
    },
    {
      "cell_type": "code",
      "source": [
        "ov_1 = merged_drop[merged_drop['ov']== 1]\n",
        "ov_1"
      ],
      "metadata": {
        "id": "2hKu3dDg2MS5"
      },
      "execution_count": null,
      "outputs": []
    },
    {
      "cell_type": "code",
      "source": [
        "ov_1 = ov_1.groupby('province').count()\n",
        "ov_1"
      ],
      "metadata": {
        "id": "uyNhva7927v7"
      },
      "execution_count": null,
      "outputs": []
    },
    {
      "cell_type": "code",
      "source": [
        "ov_1_new = ov_1.iloc[:,:1]\n",
        "ov_1_new "
      ],
      "metadata": {
        "id": "bXaeaakR35Hn"
      },
      "execution_count": null,
      "outputs": []
    },
    {
      "cell_type": "code",
      "source": [
        "ov_1_noindex = ov_1_new.reset_index()\n",
        "ov_1_noindex"
      ],
      "metadata": {
        "id": "ETaZZw984C-q"
      },
      "execution_count": null,
      "outputs": []
    },
    {
      "cell_type": "code",
      "source": [
        "o1 = {'user':'จำนวนที่พบโรค ระดับ 1'}\n",
        "# call rename () method\n",
        "ov_1_noindex.rename(columns=o1,\n",
        "          inplace=True)\n",
        "ov_1_noindex"
      ],
      "metadata": {
        "id": "uu9cPewx4oS2"
      },
      "execution_count": null,
      "outputs": []
    },
    {
      "cell_type": "markdown",
      "source": [
        "### ระดับ 2"
      ],
      "metadata": {
        "id": "P7dUHk8tQhQc"
      }
    },
    {
      "cell_type": "code",
      "source": [
        "ov_2 = merged_drop[merged_drop['ov']== 2]\n",
        "ov_2"
      ],
      "metadata": {
        "id": "RcIoFf2f42tz"
      },
      "execution_count": null,
      "outputs": []
    },
    {
      "cell_type": "code",
      "source": [
        "ov_2 = ov_2.groupby('province').count()\n",
        "ov_2"
      ],
      "metadata": {
        "id": "_D0IfIHvQnr3"
      },
      "execution_count": null,
      "outputs": []
    },
    {
      "cell_type": "code",
      "source": [
        "ov_2_new = ov_2.iloc[:,:1]\n",
        "ov_2_new"
      ],
      "metadata": {
        "id": "K7NX6vUtQuVA"
      },
      "execution_count": null,
      "outputs": []
    },
    {
      "cell_type": "code",
      "source": [
        "ov_2_noindex = ov_2_new.reset_index()\n",
        "ov_2_noindex"
      ],
      "metadata": {
        "id": "UAQFc-jgQ5Wx"
      },
      "execution_count": null,
      "outputs": []
    },
    {
      "cell_type": "code",
      "source": [
        "o2 = {'user':'จำนวนที่พบโรค ระดับ 2'}\n",
        "# call rename () method\n",
        "ov_2_noindex.rename(columns=o2,\n",
        "          inplace=True)\n",
        "ov_2_noindex"
      ],
      "metadata": {
        "id": "vg_k4yYHRBxO"
      },
      "execution_count": null,
      "outputs": []
    },
    {
      "cell_type": "markdown",
      "source": [
        "### ระดับ 3"
      ],
      "metadata": {
        "id": "rNNXG2ezRY8i"
      }
    },
    {
      "cell_type": "code",
      "source": [
        "ov_3 = merged_drop[merged_drop['ov']== 3]\n",
        "ov_3"
      ],
      "metadata": {
        "id": "uM_pN4n7RLNI"
      },
      "execution_count": null,
      "outputs": []
    },
    {
      "cell_type": "code",
      "source": [
        "ov_3 = ov_3.groupby('province').count()\n",
        "ov_3"
      ],
      "metadata": {
        "id": "ziko7yXoRePr"
      },
      "execution_count": null,
      "outputs": []
    },
    {
      "cell_type": "code",
      "source": [
        "ov_3_new = ov_3.iloc[:,:1]\n",
        "ov_3_new"
      ],
      "metadata": {
        "id": "Q3_4MO4DRjpU"
      },
      "execution_count": null,
      "outputs": []
    },
    {
      "cell_type": "code",
      "source": [
        "ov_3_noindex = ov_3_new.reset_index()\n",
        "ov_3_noindex"
      ],
      "metadata": {
        "id": "GZpV-wCuRmJp"
      },
      "execution_count": null,
      "outputs": []
    },
    {
      "cell_type": "code",
      "source": [
        "o3 = {'user':'จำนวนที่พบโรค ระดับ 3'}\n",
        "# call rename () method\n",
        "ov_3_noindex.rename(columns=o3,\n",
        "          inplace=True)\n",
        "ov_3_noindex"
      ],
      "metadata": {
        "id": "FRftu4NnRqsZ"
      },
      "execution_count": null,
      "outputs": []
    },
    {
      "cell_type": "markdown",
      "source": [
        "### ระดับ 4"
      ],
      "metadata": {
        "id": "FXgzsWuwR0nU"
      }
    },
    {
      "cell_type": "code",
      "source": [
        "ov_4 = merged_drop[merged_drop['ov']== 4]\n",
        "ov_4"
      ],
      "metadata": {
        "id": "671U-4-RRwEx"
      },
      "execution_count": null,
      "outputs": []
    },
    {
      "cell_type": "code",
      "source": [
        "ov_4 = ov_4.groupby('province').count()\n",
        "ov_4_new = ov_4.iloc[:,:1]\n",
        "ov_4_noindex = ov_4_new.reset_index()\n",
        "ov_4_noindex"
      ],
      "metadata": {
        "id": "t-ZulJwDR6AG"
      },
      "execution_count": null,
      "outputs": []
    },
    {
      "cell_type": "code",
      "source": [
        "o4 = {'user':'จำนวนที่พบโรค ระดับ 4'}\n",
        "# call rename () method\n",
        "ov_4_noindex.rename(columns=o4,\n",
        "          inplace=True)\n",
        "ov_4_noindex"
      ],
      "metadata": {
        "id": "8fMVj6U6SC5U"
      },
      "execution_count": null,
      "outputs": []
    },
    {
      "cell_type": "markdown",
      "source": [
        "### รวมตาราง 4 ตารางเข้าด้วยกัน"
      ],
      "metadata": {
        "id": "HeCO5Z8LSOXJ"
      }
    },
    {
      "cell_type": "code",
      "source": [
        "ov_merge = ov_0_noindex.merge(ov_1_noindex,how='left',left_on='province',right_on='province') \n",
        "ov_merge = ov_merge.merge(ov_2_noindex,how='left',left_on='province',right_on='province') \n",
        "ov_merge = ov_merge.merge(ov_3_noindex,how='left',left_on='province',right_on='province') \n",
        "ov_merge = ov_merge.merge(ov_4_noindex,how='left',left_on='province',right_on='province') \n",
        "ov_merge"
      ],
      "metadata": {
        "id": "WLW5WEeLSHHq"
      },
      "execution_count": null,
      "outputs": []
    },
    {
      "cell_type": "code",
      "source": [
        "# เเทนค่า NaN ด้วย 0\n",
        "ov_merge['จำนวนที่พบโรค ระดับ 1'] = ov_merge['จำนวนที่พบโรค ระดับ 1'].fillna(0) \n",
        "ov_merge['จำนวนที่พบโรค ระดับ 2'] = ov_merge['จำนวนที่พบโรค ระดับ 2'].fillna(0) \n",
        "ov_merge['จำนวนที่พบโรค ระดับ 3'] = ov_merge['จำนวนที่พบโรค ระดับ 3'].fillna(0) \n",
        "ov_merge['จำนวนที่พบโรค ระดับ 4'] = ov_merge['จำนวนที่พบโรค ระดับ 4'].fillna(0) "
      ],
      "metadata": {
        "id": "oXf_ludiS0IQ"
      },
      "execution_count": null,
      "outputs": []
    },
    {
      "cell_type": "code",
      "source": [
        "ov_merge.isnull().any()\n",
        "#.isnull() เพื่อระบุว่านิพจน์มีค่า Null หรือไม่\n",
        "#.any() เพื่อดูรายละเอียดการเปรียบเทียบข้อมูลให้ออกมาในรูป true false"
      ],
      "metadata": {
        "id": "XtT38WeHT51z"
      },
      "execution_count": null,
      "outputs": []
    },
    {
      "cell_type": "markdown",
      "source": [
        "# Dashboard 1\n",
        "\n",
        "รวมตารางระหว่างจำนวนการตรวจในแต่ละพื้นที่ กับ จำนวนที่พบโรค"
      ],
      "metadata": {
        "id": "aoP89f1_UNYJ"
      }
    },
    {
      "cell_type": "code",
      "source": [
        "data1 = P_noindex.merge(ov_merge,how='left',left_on='province',right_on='province') \n",
        "data1"
      ],
      "metadata": {
        "id": "AeucLkOJUM1y"
      },
      "execution_count": null,
      "outputs": []
    },
    {
      "cell_type": "code",
      "source": [
        "# เเทนค่า NaN ด้วย 0\n",
        "data1['จำนวนที่พบโรค ระดับ 0'] = data1['จำนวนที่พบโรค ระดับ 0'].fillna(0) \n",
        "data1['จำนวนที่พบโรค ระดับ 1'] = data1['จำนวนที่พบโรค ระดับ 1'].fillna(0) \n",
        "data1['จำนวนที่พบโรค ระดับ 2'] = data1['จำนวนที่พบโรค ระดับ 2'].fillna(0) \n",
        "data1['จำนวนที่พบโรค ระดับ 3'] = data1['จำนวนที่พบโรค ระดับ 3'].fillna(0) \n",
        "data1['จำนวนที่พบโรค ระดับ 4'] = data1['จำนวนที่พบโรค ระดับ 4'].fillna(0) "
      ],
      "metadata": {
        "id": "C4OxXKADT77A"
      },
      "execution_count": null,
      "outputs": []
    },
    {
      "cell_type": "code",
      "source": [
        "data1.isnull().any()\n",
        "#.isnull() เพื่อระบุว่านิพจน์มีค่า Null หรือไม่\n",
        "#.any() เพื่อดูรายละเอียดการเปรียบเทียบข้อมูลให้ออกมาในรูป true false"
      ],
      "metadata": {
        "id": "1TkGnwbkVCQf"
      },
      "execution_count": null,
      "outputs": []
    },
    {
      "cell_type": "code",
      "source": [
        "data1 # แสดงข้อมูลหลังเเทน NaN ด้วย 0"
      ],
      "metadata": {
        "id": "iqfyBsLnrsdA"
      },
      "execution_count": null,
      "outputs": []
    },
    {
      "cell_type": "code",
      "source": [
        "data1.to_csv(os.path.join(path,'data1.csv')) # save เข้า drive เพื่อนำไปทำ dashboard"
      ],
      "metadata": {
        "id": "yupP1w6RVFA6"
      },
      "execution_count": null,
      "outputs": []
    },
    {
      "cell_type": "markdown",
      "source": [
        "# Dashboard 2 \n",
        "\n",
        "ข้อมูลที่เหลือ \n",
        "\n",
        "* ช่วงเวลาที่ตรวจ (date ในไฟล์ alldb.csv)\n",
        "* อื่นๆที่นักศึกษาเห็นว่าเป็นประโยชน์ (phone (ชนิดโทรศัพท์ที่ใช้บันทึก), title (คำนำหน้าชื่อ), age (อายุ))"
      ],
      "metadata": {
        "id": "p8ebCCuyViVx"
      }
    },
    {
      "cell_type": "code",
      "source": [
        "merged_use = merged_drop[['user','date','phone','site','time','urine','ov','PartitionKey','hcode','name','province']] \n",
        "merged_use"
      ],
      "metadata": {
        "id": "9IF2Ff2WVplr"
      },
      "execution_count": null,
      "outputs": []
    },
    {
      "cell_type": "code",
      "source": [
        "merged_use.to_csv(os.path.join(path,'merged_use.csv')) # save เข้า drive เพื่อนำไปทำ dashboard"
      ],
      "metadata": {
        "id": "flAN8dsMXsxE"
      },
      "execution_count": null,
      "outputs": []
    },
    {
      "cell_type": "markdown",
      "source": [
        "ลิงค์ Dashboard\n",
        "\n",
        "Link: https://datastudio.google.com/reporting/a76882b0-d2de-409a-a7b9-b9d4b4a6061a"
      ],
      "metadata": {
        "id": "fgdAitt7bM4z"
      }
    }
  ]
}