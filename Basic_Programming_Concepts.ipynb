{
  "nbformat": 4,
  "nbformat_minor": 0,
  "metadata": {
    "colab": {
      "name": "Basic Programming Concepts.ipynb",
      "provenance": [],
      "authorship_tag": "ABX9TyOuPs+YR5QRh4xIz3kUhEbQ",
      "include_colab_link": true
    },
    "kernelspec": {
      "name": "python3",
      "display_name": "Python 3"
    },
    "language_info": {
      "name": "python"
    }
  },
  "cells": [
    {
      "cell_type": "markdown",
      "metadata": {
        "id": "view-in-github",
        "colab_type": "text"
      },
      "source": [
        "<a href=\"https://colab.research.google.com/github/SupidchayaTangkidwanich/data_viz_2022/blob/main/Basic_Programming_Concepts.ipynb\" target=\"_parent\"><img src=\"https://colab.research.google.com/assets/colab-badge.svg\" alt=\"Open In Colab\"/></a>"
      ]
    },
    {
      "cell_type": "markdown",
      "source": [
        "# Functions($f(x) = y $)"
      ],
      "metadata": {
        "id": "t3LE1iyFDe2q"
      }
    },
    {
      "cell_type": "markdown",
      "source": [
        "\n",
        "\n",
        "```python\n",
        "def function_name(input_x):\n",
        "    # do something with input_x to get output_y\n",
        "    return output_y\n",
        "```\n",
        "\n"
      ],
      "metadata": {
        "id": "87r5ZykJEHkY"
      }
    },
    {
      "cell_type": "markdown",
      "source": [
        "$f_1(x)=x^2 + 75$"
      ],
      "metadata": {
        "id": "4VLARyduFyPp"
      }
    },
    {
      "cell_type": "code",
      "source": [
        "def function_f1(x):\n",
        "   a = x**2 # ยกกำลัง\n",
        "   y = a + 75\n",
        "   return \n",
        "   \n",
        "print('done!') # โค้ด level เดียวกันจะไม่ได้เป็นส่วนหนึ่งของกันและกัน"
      ],
      "metadata": {
        "colab": {
          "base_uri": "https://localhost:8080/"
        },
        "id": "tl5mRlflD72Y",
        "outputId": "becedeb5-ebe8-4bfd-9ac5-12c668250767"
      },
      "execution_count": 3,
      "outputs": [
        {
          "output_type": "stream",
          "name": "stdout",
          "text": [
            "done!\n"
          ]
        }
      ]
    },
    {
      "cell_type": "code",
      "source": [
        "function_f1(3) # ถ้า x เป็น 3"
      ],
      "metadata": {
        "colab": {
          "base_uri": "https://localhost:8080/"
        },
        "id": "Envgn7GdD74o",
        "outputId": "b7345185-0989-4082-d5a7-8f55630656db"
      },
      "execution_count": 2,
      "outputs": [
        {
          "output_type": "execute_result",
          "data": {
            "text/plain": [
              "84"
            ]
          },
          "metadata": {},
          "execution_count": 2
        }
      ]
    },
    {
      "cell_type": "markdown",
      "source": [
        "function มีส่วนสำคัญทั้งหมด 4 ส่วน \n",
        "1. บอก python ว่าเราจะเขียนฟังก์ชั่น ชื่ออะไร def function_name(): (ขาดไม่ได้)\n",
        "2. กำหนดตัวแปรที่จะเป็น input _Input_ (ขาดได้)\n",
        "3. ส่วนประมวลผล do_something with _Input_ to get _Output_ (ขาดไม่ได้)\n",
        "4. ส่วน output `return` _Output_ (ขาดได้)"
      ],
      "metadata": {
        "id": "Rw3Ll7yCHOSp"
      }
    },
    {
      "cell_type": "markdown",
      "source": [
        "### ตัวอย่าง function ที่มีส่วนประกอบครบ\n"
      ],
      "metadata": {
        "id": "ufrWCs92H6GJ"
      }
    },
    {
      "cell_type": "code",
      "source": [
        "def function_f1(x):\n",
        "   a = x**2 # ยกกำลัง\n",
        "   y = a + 75\n",
        "   return"
      ],
      "metadata": {
        "id": "ZLg_COK8D77B"
      },
      "execution_count": 4,
      "outputs": []
    },
    {
      "cell_type": "markdown",
      "source": [
        "### ตัวอย่าง function ที่ ไม่มี input"
      ],
      "metadata": {
        "id": "4ml_dVP5IDKy"
      }
    },
    {
      "cell_type": "code",
      "source": [
        "def pi_v(): # ค่า pi \n",
        "   y = 3.14159265359\n",
        "   return y"
      ],
      "metadata": {
        "id": "LPEYWN7aICKj"
      },
      "execution_count": 5,
      "outputs": []
    },
    {
      "cell_type": "code",
      "source": [
        "piv = pi_v()\n",
        "circle_area_r2 = piv*(2**2)\n",
        "print(circle_area_r2) # ลองคำนวณหาพื้นที่วงกลม"
      ],
      "metadata": {
        "colab": {
          "base_uri": "https://localhost:8080/"
        },
        "id": "k2Gq160nIid6",
        "outputId": "24d6e5cb-0ec4-4143-8a85-01f5249d3736"
      },
      "execution_count": 6,
      "outputs": [
        {
          "output_type": "stream",
          "name": "stdout",
          "text": [
            "12.56637061436\n"
          ]
        }
      ]
    },
    {
      "cell_type": "markdown",
      "source": [
        "### Function ไม่มี process ไม่ได้"
      ],
      "metadata": {
        "id": "GivRYmYqJMQJ"
      }
    },
    {
      "cell_type": "code",
      "source": [
        "def function_a(): "
      ],
      "metadata": {
        "colab": {
          "base_uri": "https://localhost:8080/",
          "height": 132
        },
        "id": "97SW1CYPJDDB",
        "outputId": "1892ed53-a0dd-4c6d-fb5c-dda27acdb53c"
      },
      "execution_count": 7,
      "outputs": [
        {
          "output_type": "error",
          "ename": "SyntaxError",
          "evalue": "ignored",
          "traceback": [
            "\u001b[0;36m  File \u001b[0;32m\"<ipython-input-7-07a0750214a8>\"\u001b[0;36m, line \u001b[0;32m1\u001b[0m\n\u001b[0;31m    def function_a():\u001b[0m\n\u001b[0m                     ^\u001b[0m\n\u001b[0;31mSyntaxError\u001b[0m\u001b[0;31m:\u001b[0m unexpected EOF while parsing\n"
          ]
        }
      ]
    },
    {
      "cell_type": "markdown",
      "source": [
        "ตัวอย่าง Function ที่ไม่มี output"
      ],
      "metadata": {
        "id": "sgGbH-_OJafp"
      }
    },
    {
      "cell_type": "code",
      "source": [
        "def print_name_id(name,id):\n",
        "    print(f'ชื่อ {name} รหัสประจำตัว {id}') # เเบบไม่มี return"
      ],
      "metadata": {
        "id": "UZLfDUoIJfhY"
      },
      "execution_count": 8,
      "outputs": []
    },
    {
      "cell_type": "code",
      "source": [
        "print_name_id('ณัฐธิดา','623020435-1') "
      ],
      "metadata": {
        "colab": {
          "base_uri": "https://localhost:8080/"
        },
        "id": "60Kbx-NdJ0UB",
        "outputId": "ab18b97d-e2c5-4cc2-f93e-4c4d2191eb76"
      },
      "execution_count": 9,
      "outputs": [
        {
          "output_type": "stream",
          "name": "stdout",
          "text": [
            "ชื่อ ณัฐธิดา รหัสประจำตัว 623020435-1\n"
          ]
        }
      ]
    },
    {
      "cell_type": "code",
      "source": [
        "a = print_name_id('ณัฐธิดา','623020435-1') # กำหนดตัวแปร a "
      ],
      "metadata": {
        "colab": {
          "base_uri": "https://localhost:8080/"
        },
        "id": "d6DiJd5vKiUL",
        "outputId": "22488e68-71e3-45b8-ecad-b4f7dedcbc80"
      },
      "execution_count": 10,
      "outputs": [
        {
          "output_type": "stream",
          "name": "stdout",
          "text": [
            "ชื่อ ณัฐธิดา รหัสประจำตัว 623020435-1\n"
          ]
        }
      ]
    },
    {
      "cell_type": "code",
      "source": [
        "a # ก็จะไม่เเสดงผลลัพธ์ออกมา เพราะไม่ได้เก็บ ouput ไว้"
      ],
      "metadata": {
        "id": "kD-mXVPkKiXQ"
      },
      "execution_count": 12,
      "outputs": []
    },
    {
      "cell_type": "markdown",
      "source": [
        ""
      ],
      "metadata": {
        "id": "PK0mp436O5P8"
      }
    },
    {
      "cell_type": "code",
      "source": [
        "print('ณัฐธิดา')\n",
        "print('623020435-1') # เเสดงผลออกมา"
      ],
      "metadata": {
        "colab": {
          "base_uri": "https://localhost:8080/"
        },
        "id": "UkVhoxaUO54x",
        "outputId": "d668a291-3645-48b0-d2e1-716831b9f0b2"
      },
      "execution_count": 13,
      "outputs": [
        {
          "output_type": "stream",
          "name": "stdout",
          "text": [
            "ณัฐธิดา\n",
            "623020435-1\n"
          ]
        }
      ]
    },
    {
      "cell_type": "code",
      "source": [
        "print('ณัฐธิดา',end='->') # แสดงลูกศร\n",
        "print('623020435-1')"
      ],
      "metadata": {
        "colab": {
          "base_uri": "https://localhost:8080/"
        },
        "id": "mAtzkhr-PQt5",
        "outputId": "a1af8445-ce0d-4171-a180-678c24366775"
      },
      "execution_count": 14,
      "outputs": [
        {
          "output_type": "stream",
          "name": "stdout",
          "text": [
            "ณัฐธิดา->623020435-1\n"
          ]
        }
      ]
    },
    {
      "cell_type": "code",
      "source": [
        "print('ณัฐธิดา','623020435-1')"
      ],
      "metadata": {
        "colab": {
          "base_uri": "https://localhost:8080/"
        },
        "id": "7vhfDYjMPDkw",
        "outputId": "88f875cd-bc35-4529-ecec-c722e78b1f3d"
      },
      "execution_count": 15,
      "outputs": [
        {
          "output_type": "stream",
          "name": "stdout",
          "text": [
            "ณัฐธิดา 623020435-1\n"
          ]
        }
      ]
    },
    {
      "cell_type": "code",
      "source": [
        "print('ณัฐธิดา','623020435-1',sep=' & ') # ใส่ & ไว้ตรงกลาง"
      ],
      "metadata": {
        "colab": {
          "base_uri": "https://localhost:8080/"
        },
        "id": "-fCpoK71QUww",
        "outputId": "4ef3c897-93fc-45c0-8a5c-ec6c83043ca2"
      },
      "execution_count": 16,
      "outputs": [
        {
          "output_type": "stream",
          "name": "stdout",
          "text": [
            "ณัฐธิดา & 623020435-1\n"
          ]
        }
      ]
    },
    {
      "cell_type": "markdown",
      "source": [
        "### input ของ function เเบ่งเป็น 2 ชนิด (จำเป็นต้องใส่ กับ ไม่จำเป็นต้องใส้่)"
      ],
      "metadata": {
        "id": "-RBta_S4QdQY"
      }
    },
    {
      "cell_type": "markdown",
      "source": [
        "ตัวอย่าง function `print_grade()` มี input 3 ตัว จำเป็นต้องใส่ 2 ตัว คือ name\n",
        "กับ id และไม่จำเป็นต้องใส่ 1 ตัว คือเกรด ซึ่งมีค่า default เป็น F\n",
        "\n"
      ],
      "metadata": {
        "id": "rkVd8cw9REfQ"
      }
    },
    {
      "cell_type": "code",
      "source": [
        "def print_grade(name,id,grade = 'F'): # ฟังก์ชั่นมี input 3 ตัว\n",
        "    print(f'รหัสประจำตัว {id} ชื่อ {name}')\n",
        "    print(f'ได้เกรด {grade}')"
      ],
      "metadata": {
        "id": "2vLMyozWQmnL"
      },
      "execution_count": 17,
      "outputs": []
    },
    {
      "cell_type": "code",
      "source": [
        "print_grade('นายสิทธัตกะ จรัสเเสง','623020541-2') # ถ้าไม่ใส่จะใส่เป็นค่า defalut ให้เลย"
      ],
      "metadata": {
        "colab": {
          "base_uri": "https://localhost:8080/"
        },
        "id": "a-gt1h1kR0oJ",
        "outputId": "81f52395-c8fe-4afd-b2f3-0f2bb16a1848"
      },
      "execution_count": 19,
      "outputs": [
        {
          "output_type": "stream",
          "name": "stdout",
          "text": [
            "รหัสประจำตัว 623020541-2 ชื่อ นายสิทธัตกะ จรัสเเสง\n",
            "ได้เกรด F\n"
          ]
        }
      ]
    },
    {
      "cell_type": "code",
      "source": [
        "print_grade('นายสิทธัตกะ จรัสเเสง','623020541-2','A') # ถ้าใส่จะเปลี่ยนเป็นค่าที่เราต้องการ"
      ],
      "metadata": {
        "colab": {
          "base_uri": "https://localhost:8080/"
        },
        "id": "Rx9U6T8KRpWi",
        "outputId": "f11f7b46-265c-4201-fe93-cbdcfb8c021f"
      },
      "execution_count": 18,
      "outputs": [
        {
          "output_type": "stream",
          "name": "stdout",
          "text": [
            "รหัสประจำตัว 623020541-2 ชื่อ นายสิทธัตกะ จรัสเเสง\n",
            "ได้เกรด A\n"
          ]
        }
      ]
    },
    {
      "cell_type": "code",
      "source": [
        "print_grade(id='623020541-2',name='นายสิทธัตกะ จรัสเเสง',grade='B+') # ใส่ชื่อ input ไปเลยเพื่อกำหนดผลลัพธ์ก็ได้"
      ],
      "metadata": {
        "id": "1PD8dLPhR556"
      },
      "execution_count": null,
      "outputs": []
    },
    {
      "cell_type": "markdown",
      "source": [
        "# Looping (for)"
      ],
      "metadata": {
        "id": "s_BA7ShKDiLB"
      }
    },
    {
      "cell_type": "code",
      "source": [
        ""
      ],
      "metadata": {
        "id": "lDAQntmBIB2P"
      },
      "execution_count": null,
      "outputs": []
    },
    {
      "cell_type": "markdown",
      "source": [
        "# Conditional Statement(if)"
      ],
      "metadata": {
        "id": "ADUE18vsDicY"
      }
    },
    {
      "cell_type": "code",
      "execution_count": null,
      "metadata": {
        "id": "pG96hHx8DZCu"
      },
      "outputs": [],
      "source": [
        ""
      ]
    }
  ]
}